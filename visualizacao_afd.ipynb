{
 "cells": [
  {
   "cell_type": "code",
   "execution_count": null,
   "id": "ed0e90bf",
   "metadata": {},
   "outputs": [],
   "source": [
    "pip install automata-lib"
   ]
  },
  {
   "cell_type": "code",
   "execution_count": null,
   "id": "4e23798a",
   "metadata": {},
   "outputs": [],
   "source": [
    "pip install pandas\n"
   ]
  },
  {
   "cell_type": "code",
   "execution_count": null,
   "id": "12f15662",
   "metadata": {},
   "outputs": [],
   "source": [
    "pip install graphviz"
   ]
  },
  {
   "cell_type": "code",
   "execution_count": null,
   "id": "9655a799",
   "metadata": {},
   "outputs": [],
   "source": [
    "pip install colormath"
   ]
  },
  {
   "cell_type": "code",
   "execution_count": null,
   "id": "31cabd70",
   "metadata": {},
   "outputs": [],
   "source": [
    "pip install jupyterlab"
   ]
  },
  {
   "cell_type": "code",
   "execution_count": null,
   "id": "6fad3fea",
   "metadata": {},
   "outputs": [],
   "source": [
    "pip install visual-automata"
   ]
  },
  {
   "cell_type": "code",
   "execution_count": null,
   "id": "c3b70f3e",
   "metadata": {},
   "outputs": [],
   "source": [
    "from automata.fa.dfa import DFA\n",
    "from visual_automata.fa.dfa import VisualDFA\n",
    "\n",
    "dfa = VisualDFA(\n",
    "    states={'a', 'b', 'c', 'd', 'e', 'f'},\n",
    "    input_symbols={'0', '1'},\n",
    "    transitions={\n",
    "        'a': {'0': 'b', '1': 'c'},\n",
    "        'b': {'0': 'a', '1': 'd'},\n",
    "        'c': {'0': 'e', '1': 'f'},\n",
    "        'd': {'0': 'e', '1': 'f'},\n",
    "        'e': {'0': 'e', '1': 'f'},\n",
    "        'f': {'0': 'f', '1': 'f'},\n",
    "        \n",
    "    },\n",
    "    initial_state='a',\n",
    "    final_states={'c', 'd', 'e'},\n",
    ")\n",
    "\n",
    "dfa.table\n",
    "dfa.show_diagram()"
   ]
  }
 ],
 "metadata": {
  "kernelspec": {
   "display_name": "Python 3 (ipykernel)",
   "language": "python",
   "name": "python3"
  },
  "language_info": {
   "codemirror_mode": {
    "name": "ipython",
    "version": 3
   },
   "file_extension": ".py",
   "mimetype": "text/x-python",
   "name": "python",
   "nbconvert_exporter": "python",
   "pygments_lexer": "ipython3",
   "version": "3.10.11"
  }
 },
 "nbformat": 4,
 "nbformat_minor": 5
}
