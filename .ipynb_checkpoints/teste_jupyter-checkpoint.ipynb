{
 "cells": [
  {
   "cell_type": "code",
   "execution_count": 5,
   "id": "ed0e90bf",
   "metadata": {},
   "outputs": [
    {
     "name": "stdout",
     "output_type": "stream",
     "text": [
      "Requirement already satisfied: automata-lib in c:\\users\\arthu\\anaconda3\\lib\\site-packages (7.1.0)\n",
      "Requirement already satisfied: networkx>=2.6.2 in c:\\users\\arthu\\anaconda3\\lib\\site-packages (from automata-lib) (2.8.4)\n",
      "Requirement already satisfied: pydot>=1.4.2 in c:\\users\\arthu\\anaconda3\\lib\\site-packages (from automata-lib) (1.4.2)\n",
      "Requirement already satisfied: frozendict>=2.3.4 in c:\\users\\arthu\\anaconda3\\lib\\site-packages (from automata-lib) (2.3.8)\n",
      "Requirement already satisfied: pyparsing>=2.1.4 in c:\\users\\arthu\\anaconda3\\lib\\site-packages (from pydot>=1.4.2->automata-lib) (3.0.9)\n",
      "Note: you may need to restart the kernel to use updated packages.\n"
     ]
    }
   ],
   "source": [
    "pip install automata-lib"
   ]
  },
  {
   "cell_type": "code",
   "execution_count": 6,
   "id": "4e23798a",
   "metadata": {},
   "outputs": [
    {
     "name": "stdout",
     "output_type": "stream",
     "text": [
      "Requirement already satisfied: pandas in c:\\users\\arthu\\anaconda3\\lib\\site-packages (1.5.3)\n",
      "Requirement already satisfied: pytz>=2020.1 in c:\\users\\arthu\\anaconda3\\lib\\site-packages (from pandas) (2022.7)\n",
      "Requirement already satisfied: numpy>=1.21.0 in c:\\users\\arthu\\anaconda3\\lib\\site-packages (from pandas) (1.23.5)\n",
      "Requirement already satisfied: python-dateutil>=2.8.1 in c:\\users\\arthu\\anaconda3\\lib\\site-packages (from pandas) (2.8.2)\n",
      "Requirement already satisfied: six>=1.5 in c:\\users\\arthu\\anaconda3\\lib\\site-packages (from python-dateutil>=2.8.1->pandas) (1.16.0)\n",
      "Note: you may need to restart the kernel to use updated packages.\n"
     ]
    }
   ],
   "source": [
    "pip install pandas\n"
   ]
  },
  {
   "cell_type": "code",
   "execution_count": 7,
   "id": "12f15662",
   "metadata": {},
   "outputs": [
    {
     "name": "stdout",
     "output_type": "stream",
     "text": [
      "Collecting graphviz\n",
      "  Downloading graphviz-0.20.1-py3-none-any.whl (47 kB)\n",
      "     -------------------------------------- 47.0/47.0 kB 471.8 kB/s eta 0:00:00\n",
      "Installing collected packages: graphviz\n",
      "Successfully installed graphviz-0.20.1\n",
      "Note: you may need to restart the kernel to use updated packages.\n"
     ]
    }
   ],
   "source": [
    "pip install graphviz"
   ]
  },
  {
   "cell_type": "code",
   "execution_count": 8,
   "id": "9655a799",
   "metadata": {},
   "outputs": [
    {
     "name": "stdout",
     "output_type": "stream",
     "text": [
      "Collecting colormath\n",
      "  Downloading colormath-3.0.0.tar.gz (39 kB)\n",
      "  Preparing metadata (setup.py): started\n",
      "  Preparing metadata (setup.py): finished with status 'done'\n",
      "Requirement already satisfied: numpy in c:\\users\\arthu\\anaconda3\\lib\\site-packages (from colormath) (1.23.5)\n",
      "Requirement already satisfied: networkx>=2.0 in c:\\users\\arthu\\anaconda3\\lib\\site-packages (from colormath) (2.8.4)\n",
      "Building wheels for collected packages: colormath\n",
      "  Building wheel for colormath (setup.py): started\n",
      "  Building wheel for colormath (setup.py): finished with status 'done'\n",
      "  Created wheel for colormath: filename=colormath-3.0.0-py3-none-any.whl size=39429 sha256=caeafa58f1dd7a9cdeab589f483eac29e6fea6a408246413c7b49701d3ff9f98\n",
      "  Stored in directory: c:\\users\\arthu\\appdata\\local\\pip\\cache\\wheels\\74\\4d\\82\\6db4d101f6930445e680075bf078509b8e1acc282856f9db39\n",
      "Successfully built colormath\n",
      "Installing collected packages: colormath\n",
      "Successfully installed colormath-3.0.0\n",
      "Note: you may need to restart the kernel to use updated packages.\n"
     ]
    }
   ],
   "source": [
    "pip install colormath"
   ]
  },
  {
   "cell_type": "code",
   "execution_count": 9,
   "id": "31cabd70",
   "metadata": {},
   "outputs": [
    {
     "name": "stdout",
     "output_type": "stream",
     "text": [
      "Requirement already satisfied: jupyterlab in c:\\users\\arthu\\anaconda3\\lib\\site-packages (3.5.3)\n",
      "Requirement already satisfied: notebook<7 in c:\\users\\arthu\\anaconda3\\lib\\site-packages (from jupyterlab) (6.5.2)\n",
      "Requirement already satisfied: ipython in c:\\users\\arthu\\anaconda3\\lib\\site-packages (from jupyterlab) (8.10.0)\n",
      "Requirement already satisfied: jupyterlab-server~=2.10 in c:\\users\\arthu\\anaconda3\\lib\\site-packages (from jupyterlab) (2.19.0)\n",
      "Requirement already satisfied: jupyter-server<3,>=1.16.0 in c:\\users\\arthu\\anaconda3\\lib\\site-packages (from jupyterlab) (1.23.4)\n",
      "Requirement already satisfied: packaging in c:\\users\\arthu\\anaconda3\\lib\\site-packages (from jupyterlab) (22.0)\n",
      "Requirement already satisfied: nbclassic in c:\\users\\arthu\\anaconda3\\lib\\site-packages (from jupyterlab) (0.5.2)\n",
      "Requirement already satisfied: tornado>=6.1.0 in c:\\users\\arthu\\anaconda3\\lib\\site-packages (from jupyterlab) (6.1)\n",
      "Requirement already satisfied: jupyter-core in c:\\users\\arthu\\anaconda3\\lib\\site-packages (from jupyterlab) (5.2.0)\n",
      "Requirement already satisfied: tomli in c:\\users\\arthu\\anaconda3\\lib\\site-packages (from jupyterlab) (2.0.1)\n",
      "Requirement already satisfied: jinja2>=2.1 in c:\\users\\arthu\\anaconda3\\lib\\site-packages (from jupyterlab) (3.1.2)\n",
      "Requirement already satisfied: MarkupSafe>=2.0 in c:\\users\\arthu\\anaconda3\\lib\\site-packages (from jinja2>=2.1->jupyterlab) (2.1.1)\n",
      "Requirement already satisfied: websocket-client in c:\\users\\arthu\\anaconda3\\lib\\site-packages (from jupyter-server<3,>=1.16.0->jupyterlab) (0.58.0)\n",
      "Requirement already satisfied: nbconvert>=6.4.4 in c:\\users\\arthu\\anaconda3\\lib\\site-packages (from jupyter-server<3,>=1.16.0->jupyterlab) (6.5.4)\n",
      "Requirement already satisfied: terminado>=0.8.3 in c:\\users\\arthu\\anaconda3\\lib\\site-packages (from jupyter-server<3,>=1.16.0->jupyterlab) (0.17.1)\n",
      "Requirement already satisfied: pyzmq>=17 in c:\\users\\arthu\\anaconda3\\lib\\site-packages (from jupyter-server<3,>=1.16.0->jupyterlab) (23.2.0)\n",
      "Requirement already satisfied: nbformat>=5.2.0 in c:\\users\\arthu\\anaconda3\\lib\\site-packages (from jupyter-server<3,>=1.16.0->jupyterlab) (5.7.0)\n",
      "Requirement already satisfied: argon2-cffi in c:\\users\\arthu\\anaconda3\\lib\\site-packages (from jupyter-server<3,>=1.16.0->jupyterlab) (21.3.0)\n",
      "Requirement already satisfied: pywinpty in c:\\users\\arthu\\anaconda3\\lib\\site-packages (from jupyter-server<3,>=1.16.0->jupyterlab) (2.0.10)\n",
      "Requirement already satisfied: Send2Trash in c:\\users\\arthu\\anaconda3\\lib\\site-packages (from jupyter-server<3,>=1.16.0->jupyterlab) (1.8.0)\n",
      "Requirement already satisfied: prometheus-client in c:\\users\\arthu\\anaconda3\\lib\\site-packages (from jupyter-server<3,>=1.16.0->jupyterlab) (0.14.1)\n",
      "Requirement already satisfied: jupyter-client>=6.1.12 in c:\\users\\arthu\\anaconda3\\lib\\site-packages (from jupyter-server<3,>=1.16.0->jupyterlab) (7.3.4)\n",
      "Requirement already satisfied: anyio<4,>=3.1.0 in c:\\users\\arthu\\anaconda3\\lib\\site-packages (from jupyter-server<3,>=1.16.0->jupyterlab) (3.5.0)\n",
      "Requirement already satisfied: traitlets>=5.1 in c:\\users\\arthu\\anaconda3\\lib\\site-packages (from jupyter-server<3,>=1.16.0->jupyterlab) (5.7.1)\n",
      "Requirement already satisfied: platformdirs>=2.5 in c:\\users\\arthu\\anaconda3\\lib\\site-packages (from jupyter-core->jupyterlab) (2.5.2)\n",
      "Requirement already satisfied: pywin32>=1.0 in c:\\users\\arthu\\anaconda3\\lib\\site-packages (from jupyter-core->jupyterlab) (305.1)\n",
      "Requirement already satisfied: jsonschema>=4.17.3 in c:\\users\\arthu\\anaconda3\\lib\\site-packages (from jupyterlab-server~=2.10->jupyterlab) (4.17.3)\n",
      "Requirement already satisfied: json5>=0.9.0 in c:\\users\\arthu\\anaconda3\\lib\\site-packages (from jupyterlab-server~=2.10->jupyterlab) (0.9.6)\n",
      "Requirement already satisfied: babel>=2.10 in c:\\users\\arthu\\anaconda3\\lib\\site-packages (from jupyterlab-server~=2.10->jupyterlab) (2.11.0)\n",
      "Requirement already satisfied: requests>=2.28 in c:\\users\\arthu\\anaconda3\\lib\\site-packages (from jupyterlab-server~=2.10->jupyterlab) (2.28.1)\n",
      "Requirement already satisfied: nest-asyncio>=1.5 in c:\\users\\arthu\\anaconda3\\lib\\site-packages (from notebook<7->jupyterlab) (1.5.6)\n",
      "Requirement already satisfied: ipykernel in c:\\users\\arthu\\anaconda3\\lib\\site-packages (from notebook<7->jupyterlab) (6.19.2)\n",
      "Requirement already satisfied: ipython-genutils in c:\\users\\arthu\\anaconda3\\lib\\site-packages (from notebook<7->jupyterlab) (0.2.0)\n",
      "Requirement already satisfied: notebook-shim>=0.1.0 in c:\\users\\arthu\\anaconda3\\lib\\site-packages (from nbclassic->jupyterlab) (0.2.2)\n",
      "Requirement already satisfied: colorama in c:\\users\\arthu\\anaconda3\\lib\\site-packages (from ipython->jupyterlab) (0.4.6)\n",
      "Requirement already satisfied: pygments>=2.4.0 in c:\\users\\arthu\\anaconda3\\lib\\site-packages (from ipython->jupyterlab) (2.11.2)\n",
      "Requirement already satisfied: prompt-toolkit<3.1.0,>=3.0.30 in c:\\users\\arthu\\anaconda3\\lib\\site-packages (from ipython->jupyterlab) (3.0.36)\n",
      "Requirement already satisfied: pickleshare in c:\\users\\arthu\\anaconda3\\lib\\site-packages (from ipython->jupyterlab) (0.7.5)\n",
      "Requirement already satisfied: stack-data in c:\\users\\arthu\\anaconda3\\lib\\site-packages (from ipython->jupyterlab) (0.2.0)\n",
      "Requirement already satisfied: decorator in c:\\users\\arthu\\anaconda3\\lib\\site-packages (from ipython->jupyterlab) (5.1.1)\n",
      "Requirement already satisfied: matplotlib-inline in c:\\users\\arthu\\anaconda3\\lib\\site-packages (from ipython->jupyterlab) (0.1.6)\n",
      "Requirement already satisfied: jedi>=0.16 in c:\\users\\arthu\\anaconda3\\lib\\site-packages (from ipython->jupyterlab) (0.18.1)\n",
      "Requirement already satisfied: backcall in c:\\users\\arthu\\anaconda3\\lib\\site-packages (from ipython->jupyterlab) (0.2.0)\n",
      "Requirement already satisfied: sniffio>=1.1 in c:\\users\\arthu\\anaconda3\\lib\\site-packages (from anyio<4,>=3.1.0->jupyter-server<3,>=1.16.0->jupyterlab) (1.2.0)\n",
      "Requirement already satisfied: idna>=2.8 in c:\\users\\arthu\\anaconda3\\lib\\site-packages (from anyio<4,>=3.1.0->jupyter-server<3,>=1.16.0->jupyterlab) (3.4)\n",
      "Requirement already satisfied: pytz>=2015.7 in c:\\users\\arthu\\anaconda3\\lib\\site-packages (from babel>=2.10->jupyterlab-server~=2.10->jupyterlab) (2022.7)\n",
      "Requirement already satisfied: parso<0.9.0,>=0.8.0 in c:\\users\\arthu\\anaconda3\\lib\\site-packages (from jedi>=0.16->ipython->jupyterlab) (0.8.3)\n",
      "Requirement already satisfied: attrs>=17.4.0 in c:\\users\\arthu\\anaconda3\\lib\\site-packages (from jsonschema>=4.17.3->jupyterlab-server~=2.10->jupyterlab) (22.1.0)\n",
      "Requirement already satisfied: pyrsistent!=0.17.0,!=0.17.1,!=0.17.2,>=0.14.0 in c:\\users\\arthu\\anaconda3\\lib\\site-packages (from jsonschema>=4.17.3->jupyterlab-server~=2.10->jupyterlab) (0.18.0)\n",
      "Requirement already satisfied: python-dateutil>=2.8.2 in c:\\users\\arthu\\anaconda3\\lib\\site-packages (from jupyter-client>=6.1.12->jupyter-server<3,>=1.16.0->jupyterlab) (2.8.2)\n",
      "Requirement already satisfied: entrypoints in c:\\users\\arthu\\anaconda3\\lib\\site-packages (from jupyter-client>=6.1.12->jupyter-server<3,>=1.16.0->jupyterlab) (0.4)\n",
      "Requirement already satisfied: pandocfilters>=1.4.1 in c:\\users\\arthu\\anaconda3\\lib\\site-packages (from nbconvert>=6.4.4->jupyter-server<3,>=1.16.0->jupyterlab) (1.5.0)\n",
      "Requirement already satisfied: beautifulsoup4 in c:\\users\\arthu\\anaconda3\\lib\\site-packages (from nbconvert>=6.4.4->jupyter-server<3,>=1.16.0->jupyterlab) (4.11.1)\n",
      "Requirement already satisfied: jupyterlab-pygments in c:\\users\\arthu\\anaconda3\\lib\\site-packages (from nbconvert>=6.4.4->jupyter-server<3,>=1.16.0->jupyterlab) (0.1.2)\n",
      "Requirement already satisfied: tinycss2 in c:\\users\\arthu\\anaconda3\\lib\\site-packages (from nbconvert>=6.4.4->jupyter-server<3,>=1.16.0->jupyterlab) (1.2.1)\n",
      "Requirement already satisfied: nbclient>=0.5.0 in c:\\users\\arthu\\anaconda3\\lib\\site-packages (from nbconvert>=6.4.4->jupyter-server<3,>=1.16.0->jupyterlab) (0.5.13)\n",
      "Requirement already satisfied: mistune<2,>=0.8.1 in c:\\users\\arthu\\anaconda3\\lib\\site-packages (from nbconvert>=6.4.4->jupyter-server<3,>=1.16.0->jupyterlab) (0.8.4)\n",
      "Requirement already satisfied: bleach in c:\\users\\arthu\\anaconda3\\lib\\site-packages (from nbconvert>=6.4.4->jupyter-server<3,>=1.16.0->jupyterlab) (4.1.0)\n",
      "Requirement already satisfied: lxml in c:\\users\\arthu\\anaconda3\\lib\\site-packages (from nbconvert>=6.4.4->jupyter-server<3,>=1.16.0->jupyterlab) (4.9.1)\n",
      "Requirement already satisfied: defusedxml in c:\\users\\arthu\\anaconda3\\lib\\site-packages (from nbconvert>=6.4.4->jupyter-server<3,>=1.16.0->jupyterlab) (0.7.1)\n",
      "Requirement already satisfied: fastjsonschema in c:\\users\\arthu\\anaconda3\\lib\\site-packages (from nbformat>=5.2.0->jupyter-server<3,>=1.16.0->jupyterlab) (2.16.2)\n",
      "Requirement already satisfied: wcwidth in c:\\users\\arthu\\anaconda3\\lib\\site-packages (from prompt-toolkit<3.1.0,>=3.0.30->ipython->jupyterlab) (0.2.5)\n",
      "Requirement already satisfied: charset-normalizer<3,>=2 in c:\\users\\arthu\\anaconda3\\lib\\site-packages (from requests>=2.28->jupyterlab-server~=2.10->jupyterlab) (2.0.4)\n",
      "Requirement already satisfied: certifi>=2017.4.17 in c:\\users\\arthu\\anaconda3\\lib\\site-packages (from requests>=2.28->jupyterlab-server~=2.10->jupyterlab) (2022.12.7)\n",
      "Requirement already satisfied: urllib3<1.27,>=1.21.1 in c:\\users\\arthu\\anaconda3\\lib\\site-packages (from requests>=2.28->jupyterlab-server~=2.10->jupyterlab) (1.26.14)\n",
      "Requirement already satisfied: argon2-cffi-bindings in c:\\users\\arthu\\anaconda3\\lib\\site-packages (from argon2-cffi->jupyter-server<3,>=1.16.0->jupyterlab) (21.2.0)\n",
      "Requirement already satisfied: comm>=0.1.1 in c:\\users\\arthu\\anaconda3\\lib\\site-packages (from ipykernel->notebook<7->jupyterlab) (0.1.2)\n",
      "Requirement already satisfied: debugpy>=1.0 in c:\\users\\arthu\\anaconda3\\lib\\site-packages (from ipykernel->notebook<7->jupyterlab) (1.5.1)\n",
      "Requirement already satisfied: psutil in c:\\users\\arthu\\anaconda3\\lib\\site-packages (from ipykernel->notebook<7->jupyterlab) (5.9.0)\n",
      "Requirement already satisfied: asttokens in c:\\users\\arthu\\anaconda3\\lib\\site-packages (from stack-data->ipython->jupyterlab) (2.0.5)\n",
      "Requirement already satisfied: executing in c:\\users\\arthu\\anaconda3\\lib\\site-packages (from stack-data->ipython->jupyterlab) (0.8.3)\n",
      "Requirement already satisfied: pure-eval in c:\\users\\arthu\\anaconda3\\lib\\site-packages (from stack-data->ipython->jupyterlab) (0.2.2)\n",
      "Requirement already satisfied: six in c:\\users\\arthu\\anaconda3\\lib\\site-packages (from websocket-client->jupyter-server<3,>=1.16.0->jupyterlab) (1.16.0)\n",
      "Requirement already satisfied: cffi>=1.0.1 in c:\\users\\arthu\\anaconda3\\lib\\site-packages (from argon2-cffi-bindings->argon2-cffi->jupyter-server<3,>=1.16.0->jupyterlab) (1.15.1)\n",
      "Requirement already satisfied: soupsieve>1.2 in c:\\users\\arthu\\anaconda3\\lib\\site-packages (from beautifulsoup4->nbconvert>=6.4.4->jupyter-server<3,>=1.16.0->jupyterlab) (2.3.2.post1)\n",
      "Requirement already satisfied: webencodings in c:\\users\\arthu\\anaconda3\\lib\\site-packages (from bleach->nbconvert>=6.4.4->jupyter-server<3,>=1.16.0->jupyterlab) (0.5.1)\n",
      "Requirement already satisfied: pycparser in c:\\users\\arthu\\anaconda3\\lib\\site-packages (from cffi>=1.0.1->argon2-cffi-bindings->argon2-cffi->jupyter-server<3,>=1.16.0->jupyterlab) (2.21)\n",
      "Note: you may need to restart the kernel to use updated packages.\n"
     ]
    }
   ],
   "source": [
    "pip install jupyterlab"
   ]
  },
  {
   "cell_type": "code",
   "execution_count": 10,
   "id": "6fad3fea",
   "metadata": {},
   "outputs": [
    {
     "name": "stdout",
     "output_type": "stream",
     "text": [
      "Collecting visual-automata\n",
      "  Downloading visual_automata-1.1.1-py3-none-any.whl (15 kB)\n",
      "Requirement already satisfied: automata-lib in c:\\users\\arthu\\anaconda3\\lib\\site-packages (from visual-automata) (7.1.0)\n",
      "Requirement already satisfied: graphviz in c:\\users\\arthu\\anaconda3\\lib\\site-packages (from visual-automata) (0.20.1)\n",
      "Requirement already satisfied: jupyterlab in c:\\users\\arthu\\anaconda3\\lib\\site-packages (from visual-automata) (3.5.3)\n",
      "Collecting forbiddenfruit\n",
      "  Downloading forbiddenfruit-0.1.4.tar.gz (43 kB)\n",
      "     -------------------------------------- 43.8/43.8 kB 540.6 kB/s eta 0:00:00\n",
      "  Preparing metadata (setup.py): started\n",
      "  Preparing metadata (setup.py): finished with status 'done'\n",
      "Requirement already satisfied: pandas in c:\\users\\arthu\\anaconda3\\lib\\site-packages (from visual-automata) (1.5.3)\n",
      "Requirement already satisfied: colormath in c:\\users\\arthu\\anaconda3\\lib\\site-packages (from visual-automata) (3.0.0)\n",
      "Requirement already satisfied: frozendict>=2.3.4 in c:\\users\\arthu\\anaconda3\\lib\\site-packages (from automata-lib->visual-automata) (2.3.8)\n",
      "Requirement already satisfied: pydot>=1.4.2 in c:\\users\\arthu\\anaconda3\\lib\\site-packages (from automata-lib->visual-automata) (1.4.2)\n",
      "Requirement already satisfied: networkx>=2.6.2 in c:\\users\\arthu\\anaconda3\\lib\\site-packages (from automata-lib->visual-automata) (2.8.4)\n",
      "Requirement already satisfied: numpy in c:\\users\\arthu\\anaconda3\\lib\\site-packages (from colormath->visual-automata) (1.23.5)\n",
      "Requirement already satisfied: nbclassic in c:\\users\\arthu\\anaconda3\\lib\\site-packages (from jupyterlab->visual-automata) (0.5.2)\n",
      "Requirement already satisfied: tomli in c:\\users\\arthu\\anaconda3\\lib\\site-packages (from jupyterlab->visual-automata) (2.0.1)\n",
      "Requirement already satisfied: notebook<7 in c:\\users\\arthu\\anaconda3\\lib\\site-packages (from jupyterlab->visual-automata) (6.5.2)\n",
      "Requirement already satisfied: jinja2>=2.1 in c:\\users\\arthu\\anaconda3\\lib\\site-packages (from jupyterlab->visual-automata) (3.1.2)\n",
      "Requirement already satisfied: packaging in c:\\users\\arthu\\anaconda3\\lib\\site-packages (from jupyterlab->visual-automata) (22.0)\n",
      "Requirement already satisfied: jupyter-server<3,>=1.16.0 in c:\\users\\arthu\\anaconda3\\lib\\site-packages (from jupyterlab->visual-automata) (1.23.4)\n",
      "Requirement already satisfied: ipython in c:\\users\\arthu\\anaconda3\\lib\\site-packages (from jupyterlab->visual-automata) (8.10.0)\n",
      "Requirement already satisfied: jupyterlab-server~=2.10 in c:\\users\\arthu\\anaconda3\\lib\\site-packages (from jupyterlab->visual-automata) (2.19.0)\n",
      "Requirement already satisfied: tornado>=6.1.0 in c:\\users\\arthu\\anaconda3\\lib\\site-packages (from jupyterlab->visual-automata) (6.1)\n",
      "Requirement already satisfied: jupyter-core in c:\\users\\arthu\\anaconda3\\lib\\site-packages (from jupyterlab->visual-automata) (5.2.0)\n",
      "Requirement already satisfied: pytz>=2020.1 in c:\\users\\arthu\\anaconda3\\lib\\site-packages (from pandas->visual-automata) (2022.7)\n",
      "Requirement already satisfied: python-dateutil>=2.8.1 in c:\\users\\arthu\\anaconda3\\lib\\site-packages (from pandas->visual-automata) (2.8.2)\n",
      "Requirement already satisfied: MarkupSafe>=2.0 in c:\\users\\arthu\\anaconda3\\lib\\site-packages (from jinja2>=2.1->jupyterlab->visual-automata) (2.1.1)\n",
      "Requirement already satisfied: Send2Trash in c:\\users\\arthu\\anaconda3\\lib\\site-packages (from jupyter-server<3,>=1.16.0->jupyterlab->visual-automata) (1.8.0)\n",
      "Requirement already satisfied: traitlets>=5.1 in c:\\users\\arthu\\anaconda3\\lib\\site-packages (from jupyter-server<3,>=1.16.0->jupyterlab->visual-automata) (5.7.1)\n",
      "Requirement already satisfied: nbformat>=5.2.0 in c:\\users\\arthu\\anaconda3\\lib\\site-packages (from jupyter-server<3,>=1.16.0->jupyterlab->visual-automata) (5.7.0)\n",
      "Requirement already satisfied: prometheus-client in c:\\users\\arthu\\anaconda3\\lib\\site-packages (from jupyter-server<3,>=1.16.0->jupyterlab->visual-automata) (0.14.1)\n",
      "Requirement already satisfied: argon2-cffi in c:\\users\\arthu\\anaconda3\\lib\\site-packages (from jupyter-server<3,>=1.16.0->jupyterlab->visual-automata) (21.3.0)\n",
      "Requirement already satisfied: terminado>=0.8.3 in c:\\users\\arthu\\anaconda3\\lib\\site-packages (from jupyter-server<3,>=1.16.0->jupyterlab->visual-automata) (0.17.1)\n",
      "Requirement already satisfied: jupyter-client>=6.1.12 in c:\\users\\arthu\\anaconda3\\lib\\site-packages (from jupyter-server<3,>=1.16.0->jupyterlab->visual-automata) (7.3.4)\n",
      "Requirement already satisfied: nbconvert>=6.4.4 in c:\\users\\arthu\\anaconda3\\lib\\site-packages (from jupyter-server<3,>=1.16.0->jupyterlab->visual-automata) (6.5.4)\n",
      "Requirement already satisfied: anyio<4,>=3.1.0 in c:\\users\\arthu\\anaconda3\\lib\\site-packages (from jupyter-server<3,>=1.16.0->jupyterlab->visual-automata) (3.5.0)\n",
      "Requirement already satisfied: pywinpty in c:\\users\\arthu\\anaconda3\\lib\\site-packages (from jupyter-server<3,>=1.16.0->jupyterlab->visual-automata) (2.0.10)\n",
      "Requirement already satisfied: pyzmq>=17 in c:\\users\\arthu\\anaconda3\\lib\\site-packages (from jupyter-server<3,>=1.16.0->jupyterlab->visual-automata) (23.2.0)\n",
      "Requirement already satisfied: websocket-client in c:\\users\\arthu\\anaconda3\\lib\\site-packages (from jupyter-server<3,>=1.16.0->jupyterlab->visual-automata) (0.58.0)\n",
      "Requirement already satisfied: platformdirs>=2.5 in c:\\users\\arthu\\anaconda3\\lib\\site-packages (from jupyter-core->jupyterlab->visual-automata) (2.5.2)\n",
      "Requirement already satisfied: pywin32>=1.0 in c:\\users\\arthu\\anaconda3\\lib\\site-packages (from jupyter-core->jupyterlab->visual-automata) (305.1)\n",
      "Requirement already satisfied: json5>=0.9.0 in c:\\users\\arthu\\anaconda3\\lib\\site-packages (from jupyterlab-server~=2.10->jupyterlab->visual-automata) (0.9.6)\n",
      "Requirement already satisfied: requests>=2.28 in c:\\users\\arthu\\anaconda3\\lib\\site-packages (from jupyterlab-server~=2.10->jupyterlab->visual-automata) (2.28.1)\n",
      "Requirement already satisfied: babel>=2.10 in c:\\users\\arthu\\anaconda3\\lib\\site-packages (from jupyterlab-server~=2.10->jupyterlab->visual-automata) (2.11.0)\n",
      "Requirement already satisfied: jsonschema>=4.17.3 in c:\\users\\arthu\\anaconda3\\lib\\site-packages (from jupyterlab-server~=2.10->jupyterlab->visual-automata) (4.17.3)\n",
      "Requirement already satisfied: nest-asyncio>=1.5 in c:\\users\\arthu\\anaconda3\\lib\\site-packages (from notebook<7->jupyterlab->visual-automata) (1.5.6)\n",
      "Requirement already satisfied: ipython-genutils in c:\\users\\arthu\\anaconda3\\lib\\site-packages (from notebook<7->jupyterlab->visual-automata) (0.2.0)\n",
      "Requirement already satisfied: ipykernel in c:\\users\\arthu\\anaconda3\\lib\\site-packages (from notebook<7->jupyterlab->visual-automata) (6.19.2)\n",
      "Requirement already satisfied: notebook-shim>=0.1.0 in c:\\users\\arthu\\anaconda3\\lib\\site-packages (from nbclassic->jupyterlab->visual-automata) (0.2.2)\n",
      "Requirement already satisfied: pyparsing>=2.1.4 in c:\\users\\arthu\\anaconda3\\lib\\site-packages (from pydot>=1.4.2->automata-lib->visual-automata) (3.0.9)\n",
      "Requirement already satisfied: six>=1.5 in c:\\users\\arthu\\anaconda3\\lib\\site-packages (from python-dateutil>=2.8.1->pandas->visual-automata) (1.16.0)\n",
      "Requirement already satisfied: colorama in c:\\users\\arthu\\anaconda3\\lib\\site-packages (from ipython->jupyterlab->visual-automata) (0.4.6)\n",
      "Requirement already satisfied: matplotlib-inline in c:\\users\\arthu\\anaconda3\\lib\\site-packages (from ipython->jupyterlab->visual-automata) (0.1.6)\n",
      "Requirement already satisfied: backcall in c:\\users\\arthu\\anaconda3\\lib\\site-packages (from ipython->jupyterlab->visual-automata) (0.2.0)\n",
      "Requirement already satisfied: pygments>=2.4.0 in c:\\users\\arthu\\anaconda3\\lib\\site-packages (from ipython->jupyterlab->visual-automata) (2.11.2)\n",
      "Requirement already satisfied: jedi>=0.16 in c:\\users\\arthu\\anaconda3\\lib\\site-packages (from ipython->jupyterlab->visual-automata) (0.18.1)\n",
      "Requirement already satisfied: stack-data in c:\\users\\arthu\\anaconda3\\lib\\site-packages (from ipython->jupyterlab->visual-automata) (0.2.0)\n",
      "Requirement already satisfied: prompt-toolkit<3.1.0,>=3.0.30 in c:\\users\\arthu\\anaconda3\\lib\\site-packages (from ipython->jupyterlab->visual-automata) (3.0.36)\n",
      "Requirement already satisfied: decorator in c:\\users\\arthu\\anaconda3\\lib\\site-packages (from ipython->jupyterlab->visual-automata) (5.1.1)\n",
      "Requirement already satisfied: pickleshare in c:\\users\\arthu\\anaconda3\\lib\\site-packages (from ipython->jupyterlab->visual-automata) (0.7.5)\n",
      "Requirement already satisfied: sniffio>=1.1 in c:\\users\\arthu\\anaconda3\\lib\\site-packages (from anyio<4,>=3.1.0->jupyter-server<3,>=1.16.0->jupyterlab->visual-automata) (1.2.0)\n",
      "Requirement already satisfied: idna>=2.8 in c:\\users\\arthu\\anaconda3\\lib\\site-packages (from anyio<4,>=3.1.0->jupyter-server<3,>=1.16.0->jupyterlab->visual-automata) (3.4)\n",
      "Requirement already satisfied: parso<0.9.0,>=0.8.0 in c:\\users\\arthu\\anaconda3\\lib\\site-packages (from jedi>=0.16->ipython->jupyterlab->visual-automata) (0.8.3)\n",
      "Requirement already satisfied: pyrsistent!=0.17.0,!=0.17.1,!=0.17.2,>=0.14.0 in c:\\users\\arthu\\anaconda3\\lib\\site-packages (from jsonschema>=4.17.3->jupyterlab-server~=2.10->jupyterlab->visual-automata) (0.18.0)\n",
      "Requirement already satisfied: attrs>=17.4.0 in c:\\users\\arthu\\anaconda3\\lib\\site-packages (from jsonschema>=4.17.3->jupyterlab-server~=2.10->jupyterlab->visual-automata) (22.1.0)\n",
      "Requirement already satisfied: entrypoints in c:\\users\\arthu\\anaconda3\\lib\\site-packages (from jupyter-client>=6.1.12->jupyter-server<3,>=1.16.0->jupyterlab->visual-automata) (0.4)\n",
      "Requirement already satisfied: nbclient>=0.5.0 in c:\\users\\arthu\\anaconda3\\lib\\site-packages (from nbconvert>=6.4.4->jupyter-server<3,>=1.16.0->jupyterlab->visual-automata) (0.5.13)\n",
      "Requirement already satisfied: mistune<2,>=0.8.1 in c:\\users\\arthu\\anaconda3\\lib\\site-packages (from nbconvert>=6.4.4->jupyter-server<3,>=1.16.0->jupyterlab->visual-automata) (0.8.4)\n",
      "Requirement already satisfied: bleach in c:\\users\\arthu\\anaconda3\\lib\\site-packages (from nbconvert>=6.4.4->jupyter-server<3,>=1.16.0->jupyterlab->visual-automata) (4.1.0)\n",
      "Requirement already satisfied: tinycss2 in c:\\users\\arthu\\anaconda3\\lib\\site-packages (from nbconvert>=6.4.4->jupyter-server<3,>=1.16.0->jupyterlab->visual-automata) (1.2.1)\n",
      "Requirement already satisfied: pandocfilters>=1.4.1 in c:\\users\\arthu\\anaconda3\\lib\\site-packages (from nbconvert>=6.4.4->jupyter-server<3,>=1.16.0->jupyterlab->visual-automata) (1.5.0)\n",
      "Requirement already satisfied: beautifulsoup4 in c:\\users\\arthu\\anaconda3\\lib\\site-packages (from nbconvert>=6.4.4->jupyter-server<3,>=1.16.0->jupyterlab->visual-automata) (4.11.1)\n",
      "Requirement already satisfied: jupyterlab-pygments in c:\\users\\arthu\\anaconda3\\lib\\site-packages (from nbconvert>=6.4.4->jupyter-server<3,>=1.16.0->jupyterlab->visual-automata) (0.1.2)\n",
      "Requirement already satisfied: lxml in c:\\users\\arthu\\anaconda3\\lib\\site-packages (from nbconvert>=6.4.4->jupyter-server<3,>=1.16.0->jupyterlab->visual-automata) (4.9.1)\n",
      "Requirement already satisfied: defusedxml in c:\\users\\arthu\\anaconda3\\lib\\site-packages (from nbconvert>=6.4.4->jupyter-server<3,>=1.16.0->jupyterlab->visual-automata) (0.7.1)\n",
      "Requirement already satisfied: fastjsonschema in c:\\users\\arthu\\anaconda3\\lib\\site-packages (from nbformat>=5.2.0->jupyter-server<3,>=1.16.0->jupyterlab->visual-automata) (2.16.2)\n",
      "Requirement already satisfied: wcwidth in c:\\users\\arthu\\anaconda3\\lib\\site-packages (from prompt-toolkit<3.1.0,>=3.0.30->ipython->jupyterlab->visual-automata) (0.2.5)\n",
      "Requirement already satisfied: charset-normalizer<3,>=2 in c:\\users\\arthu\\anaconda3\\lib\\site-packages (from requests>=2.28->jupyterlab-server~=2.10->jupyterlab->visual-automata) (2.0.4)\n",
      "Requirement already satisfied: urllib3<1.27,>=1.21.1 in c:\\users\\arthu\\anaconda3\\lib\\site-packages (from requests>=2.28->jupyterlab-server~=2.10->jupyterlab->visual-automata) (1.26.14)\n",
      "Requirement already satisfied: certifi>=2017.4.17 in c:\\users\\arthu\\anaconda3\\lib\\site-packages (from requests>=2.28->jupyterlab-server~=2.10->jupyterlab->visual-automata) (2022.12.7)\n",
      "Requirement already satisfied: argon2-cffi-bindings in c:\\users\\arthu\\anaconda3\\lib\\site-packages (from argon2-cffi->jupyter-server<3,>=1.16.0->jupyterlab->visual-automata) (21.2.0)\n",
      "Requirement already satisfied: debugpy>=1.0 in c:\\users\\arthu\\anaconda3\\lib\\site-packages (from ipykernel->notebook<7->jupyterlab->visual-automata) (1.5.1)\n",
      "Requirement already satisfied: psutil in c:\\users\\arthu\\anaconda3\\lib\\site-packages (from ipykernel->notebook<7->jupyterlab->visual-automata) (5.9.0)\n",
      "Requirement already satisfied: comm>=0.1.1 in c:\\users\\arthu\\anaconda3\\lib\\site-packages (from ipykernel->notebook<7->jupyterlab->visual-automata) (0.1.2)\n",
      "Requirement already satisfied: pure-eval in c:\\users\\arthu\\anaconda3\\lib\\site-packages (from stack-data->ipython->jupyterlab->visual-automata) (0.2.2)\n",
      "Requirement already satisfied: executing in c:\\users\\arthu\\anaconda3\\lib\\site-packages (from stack-data->ipython->jupyterlab->visual-automata) (0.8.3)\n",
      "Requirement already satisfied: asttokens in c:\\users\\arthu\\anaconda3\\lib\\site-packages (from stack-data->ipython->jupyterlab->visual-automata) (2.0.5)\n",
      "Requirement already satisfied: cffi>=1.0.1 in c:\\users\\arthu\\anaconda3\\lib\\site-packages (from argon2-cffi-bindings->argon2-cffi->jupyter-server<3,>=1.16.0->jupyterlab->visual-automata) (1.15.1)\n",
      "Requirement already satisfied: soupsieve>1.2 in c:\\users\\arthu\\anaconda3\\lib\\site-packages (from beautifulsoup4->nbconvert>=6.4.4->jupyter-server<3,>=1.16.0->jupyterlab->visual-automata) (2.3.2.post1)\n",
      "Requirement already satisfied: webencodings in c:\\users\\arthu\\anaconda3\\lib\\site-packages (from bleach->nbconvert>=6.4.4->jupyter-server<3,>=1.16.0->jupyterlab->visual-automata) (0.5.1)\n",
      "Requirement already satisfied: pycparser in c:\\users\\arthu\\anaconda3\\lib\\site-packages (from cffi>=1.0.1->argon2-cffi-bindings->argon2-cffi->jupyter-server<3,>=1.16.0->jupyterlab->visual-automata) (2.21)\n",
      "Building wheels for collected packages: forbiddenfruit\n",
      "  Building wheel for forbiddenfruit (setup.py): started\n",
      "  Building wheel for forbiddenfruit (setup.py): finished with status 'done'\n",
      "  Created wheel for forbiddenfruit: filename=forbiddenfruit-0.1.4-py3-none-any.whl size=21840 sha256=4794ca68adb6555e48394a0665853f1d48822ab7f77b43018ed34a0e44ac109b\n",
      "  Stored in directory: c:\\users\\arthu\\appdata\\local\\pip\\cache\\wheels\\80\\70\\bf\\aa982a6b9e2c007a1d444743074a9405c144809d1110cd7612\n",
      "Successfully built forbiddenfruit\n",
      "Installing collected packages: forbiddenfruit, visual-automata\n",
      "Successfully installed forbiddenfruit-0.1.4 visual-automata-1.1.1\n",
      "Note: you may need to restart the kernel to use updated packages.\n"
     ]
    }
   ],
   "source": [
    "pip install visual-automata"
   ]
  },
  {
   "cell_type": "code",
   "execution_count": 11,
   "id": "c3b70f3e",
   "metadata": {},
   "outputs": [
    {
     "ename": "ExecutableNotFound",
     "evalue": "failed to execute WindowsPath('dot'), make sure the Graphviz executables are on your systems' PATH",
     "output_type": "error",
     "traceback": [
      "\u001b[1;31m---------------------------------------------------------------------------\u001b[0m",
      "\u001b[1;31mFileNotFoundError\u001b[0m                         Traceback (most recent call last)",
      "File \u001b[1;32m~\\anaconda3\\lib\\site-packages\\graphviz\\backend\\execute.py:79\u001b[0m, in \u001b[0;36mrun_check\u001b[1;34m(cmd, input_lines, encoding, quiet, **kwargs)\u001b[0m\n\u001b[0;32m     78\u001b[0m         kwargs[\u001b[38;5;124m'\u001b[39m\u001b[38;5;124mstdout\u001b[39m\u001b[38;5;124m'\u001b[39m] \u001b[38;5;241m=\u001b[39m kwargs[\u001b[38;5;124m'\u001b[39m\u001b[38;5;124mstderr\u001b[39m\u001b[38;5;124m'\u001b[39m] \u001b[38;5;241m=\u001b[39m subprocess\u001b[38;5;241m.\u001b[39mPIPE\n\u001b[1;32m---> 79\u001b[0m     proc \u001b[38;5;241m=\u001b[39m \u001b[43m_run_input_lines\u001b[49m\u001b[43m(\u001b[49m\u001b[43mcmd\u001b[49m\u001b[43m,\u001b[49m\u001b[43m \u001b[49m\u001b[43minput_lines\u001b[49m\u001b[43m,\u001b[49m\u001b[43m \u001b[49m\u001b[43mkwargs\u001b[49m\u001b[38;5;241;43m=\u001b[39;49m\u001b[43mkwargs\u001b[49m\u001b[43m)\u001b[49m\n\u001b[0;32m     80\u001b[0m \u001b[38;5;28;01melse\u001b[39;00m:\n",
      "File \u001b[1;32m~\\anaconda3\\lib\\site-packages\\graphviz\\backend\\execute.py:99\u001b[0m, in \u001b[0;36m_run_input_lines\u001b[1;34m(cmd, input_lines, kwargs)\u001b[0m\n\u001b[0;32m     98\u001b[0m \u001b[38;5;28;01mdef\u001b[39;00m \u001b[38;5;21m_run_input_lines\u001b[39m(cmd, input_lines, \u001b[38;5;241m*\u001b[39m, kwargs):\n\u001b[1;32m---> 99\u001b[0m     popen \u001b[38;5;241m=\u001b[39m subprocess\u001b[38;5;241m.\u001b[39mPopen(cmd, stdin\u001b[38;5;241m=\u001b[39msubprocess\u001b[38;5;241m.\u001b[39mPIPE, \u001b[38;5;241m*\u001b[39m\u001b[38;5;241m*\u001b[39mkwargs)\n\u001b[0;32m    101\u001b[0m     stdin_write \u001b[38;5;241m=\u001b[39m popen\u001b[38;5;241m.\u001b[39mstdin\u001b[38;5;241m.\u001b[39mwrite\n",
      "File \u001b[1;32m~\\anaconda3\\lib\\subprocess.py:971\u001b[0m, in \u001b[0;36mPopen.__init__\u001b[1;34m(self, args, bufsize, executable, stdin, stdout, stderr, preexec_fn, close_fds, shell, cwd, env, universal_newlines, startupinfo, creationflags, restore_signals, start_new_session, pass_fds, user, group, extra_groups, encoding, errors, text, umask, pipesize)\u001b[0m\n\u001b[0;32m    968\u001b[0m             \u001b[38;5;28mself\u001b[39m\u001b[38;5;241m.\u001b[39mstderr \u001b[38;5;241m=\u001b[39m io\u001b[38;5;241m.\u001b[39mTextIOWrapper(\u001b[38;5;28mself\u001b[39m\u001b[38;5;241m.\u001b[39mstderr,\n\u001b[0;32m    969\u001b[0m                     encoding\u001b[38;5;241m=\u001b[39mencoding, errors\u001b[38;5;241m=\u001b[39merrors)\n\u001b[1;32m--> 971\u001b[0m     \u001b[38;5;28;43mself\u001b[39;49m\u001b[38;5;241;43m.\u001b[39;49m\u001b[43m_execute_child\u001b[49m\u001b[43m(\u001b[49m\u001b[43margs\u001b[49m\u001b[43m,\u001b[49m\u001b[43m \u001b[49m\u001b[43mexecutable\u001b[49m\u001b[43m,\u001b[49m\u001b[43m \u001b[49m\u001b[43mpreexec_fn\u001b[49m\u001b[43m,\u001b[49m\u001b[43m \u001b[49m\u001b[43mclose_fds\u001b[49m\u001b[43m,\u001b[49m\n\u001b[0;32m    972\u001b[0m \u001b[43m                        \u001b[49m\u001b[43mpass_fds\u001b[49m\u001b[43m,\u001b[49m\u001b[43m \u001b[49m\u001b[43mcwd\u001b[49m\u001b[43m,\u001b[49m\u001b[43m \u001b[49m\u001b[43menv\u001b[49m\u001b[43m,\u001b[49m\n\u001b[0;32m    973\u001b[0m \u001b[43m                        \u001b[49m\u001b[43mstartupinfo\u001b[49m\u001b[43m,\u001b[49m\u001b[43m \u001b[49m\u001b[43mcreationflags\u001b[49m\u001b[43m,\u001b[49m\u001b[43m \u001b[49m\u001b[43mshell\u001b[49m\u001b[43m,\u001b[49m\n\u001b[0;32m    974\u001b[0m \u001b[43m                        \u001b[49m\u001b[43mp2cread\u001b[49m\u001b[43m,\u001b[49m\u001b[43m \u001b[49m\u001b[43mp2cwrite\u001b[49m\u001b[43m,\u001b[49m\n\u001b[0;32m    975\u001b[0m \u001b[43m                        \u001b[49m\u001b[43mc2pread\u001b[49m\u001b[43m,\u001b[49m\u001b[43m \u001b[49m\u001b[43mc2pwrite\u001b[49m\u001b[43m,\u001b[49m\n\u001b[0;32m    976\u001b[0m \u001b[43m                        \u001b[49m\u001b[43merrread\u001b[49m\u001b[43m,\u001b[49m\u001b[43m \u001b[49m\u001b[43merrwrite\u001b[49m\u001b[43m,\u001b[49m\n\u001b[0;32m    977\u001b[0m \u001b[43m                        \u001b[49m\u001b[43mrestore_signals\u001b[49m\u001b[43m,\u001b[49m\n\u001b[0;32m    978\u001b[0m \u001b[43m                        \u001b[49m\u001b[43mgid\u001b[49m\u001b[43m,\u001b[49m\u001b[43m \u001b[49m\u001b[43mgids\u001b[49m\u001b[43m,\u001b[49m\u001b[43m \u001b[49m\u001b[43muid\u001b[49m\u001b[43m,\u001b[49m\u001b[43m \u001b[49m\u001b[43mumask\u001b[49m\u001b[43m,\u001b[49m\n\u001b[0;32m    979\u001b[0m \u001b[43m                        \u001b[49m\u001b[43mstart_new_session\u001b[49m\u001b[43m)\u001b[49m\n\u001b[0;32m    980\u001b[0m \u001b[38;5;28;01mexcept\u001b[39;00m:\n\u001b[0;32m    981\u001b[0m     \u001b[38;5;66;03m# Cleanup if the child failed starting.\u001b[39;00m\n",
      "File \u001b[1;32m~\\anaconda3\\lib\\subprocess.py:1440\u001b[0m, in \u001b[0;36mPopen._execute_child\u001b[1;34m(self, args, executable, preexec_fn, close_fds, pass_fds, cwd, env, startupinfo, creationflags, shell, p2cread, p2cwrite, c2pread, c2pwrite, errread, errwrite, unused_restore_signals, unused_gid, unused_gids, unused_uid, unused_umask, unused_start_new_session)\u001b[0m\n\u001b[0;32m   1439\u001b[0m \u001b[38;5;28;01mtry\u001b[39;00m:\n\u001b[1;32m-> 1440\u001b[0m     hp, ht, pid, tid \u001b[38;5;241m=\u001b[39m \u001b[43m_winapi\u001b[49m\u001b[38;5;241;43m.\u001b[39;49m\u001b[43mCreateProcess\u001b[49m\u001b[43m(\u001b[49m\u001b[43mexecutable\u001b[49m\u001b[43m,\u001b[49m\u001b[43m \u001b[49m\u001b[43margs\u001b[49m\u001b[43m,\u001b[49m\n\u001b[0;32m   1441\u001b[0m \u001b[43m                             \u001b[49m\u001b[38;5;66;43;03m# no special security\u001b[39;49;00m\n\u001b[0;32m   1442\u001b[0m \u001b[43m                             \u001b[49m\u001b[38;5;28;43;01mNone\u001b[39;49;00m\u001b[43m,\u001b[49m\u001b[43m \u001b[49m\u001b[38;5;28;43;01mNone\u001b[39;49;00m\u001b[43m,\u001b[49m\n\u001b[0;32m   1443\u001b[0m \u001b[43m                             \u001b[49m\u001b[38;5;28;43mint\u001b[39;49m\u001b[43m(\u001b[49m\u001b[38;5;129;43;01mnot\u001b[39;49;00m\u001b[43m \u001b[49m\u001b[43mclose_fds\u001b[49m\u001b[43m)\u001b[49m\u001b[43m,\u001b[49m\n\u001b[0;32m   1444\u001b[0m \u001b[43m                             \u001b[49m\u001b[43mcreationflags\u001b[49m\u001b[43m,\u001b[49m\n\u001b[0;32m   1445\u001b[0m \u001b[43m                             \u001b[49m\u001b[43menv\u001b[49m\u001b[43m,\u001b[49m\n\u001b[0;32m   1446\u001b[0m \u001b[43m                             \u001b[49m\u001b[43mcwd\u001b[49m\u001b[43m,\u001b[49m\n\u001b[0;32m   1447\u001b[0m \u001b[43m                             \u001b[49m\u001b[43mstartupinfo\u001b[49m\u001b[43m)\u001b[49m\n\u001b[0;32m   1448\u001b[0m \u001b[38;5;28;01mfinally\u001b[39;00m:\n\u001b[0;32m   1449\u001b[0m     \u001b[38;5;66;03m# Child is launched. Close the parent's copy of those pipe\u001b[39;00m\n\u001b[0;32m   1450\u001b[0m     \u001b[38;5;66;03m# handles that only the child should have open.  You need\u001b[39;00m\n\u001b[1;32m   (...)\u001b[0m\n\u001b[0;32m   1453\u001b[0m     \u001b[38;5;66;03m# pipe will not close when the child process exits and the\u001b[39;00m\n\u001b[0;32m   1454\u001b[0m     \u001b[38;5;66;03m# ReadFile will hang.\u001b[39;00m\n",
      "\u001b[1;31mFileNotFoundError\u001b[0m: [WinError 2] O sistema não pode encontrar o arquivo especificado",
      "\nThe above exception was the direct cause of the following exception:\n",
      "\u001b[1;31mExecutableNotFound\u001b[0m                        Traceback (most recent call last)",
      "File \u001b[1;32m~\\anaconda3\\lib\\site-packages\\IPython\\core\\formatters.py:972\u001b[0m, in \u001b[0;36mMimeBundleFormatter.__call__\u001b[1;34m(self, obj, include, exclude)\u001b[0m\n\u001b[0;32m    969\u001b[0m     method \u001b[38;5;241m=\u001b[39m get_real_method(obj, \u001b[38;5;28mself\u001b[39m\u001b[38;5;241m.\u001b[39mprint_method)\n\u001b[0;32m    971\u001b[0m     \u001b[38;5;28;01mif\u001b[39;00m method \u001b[38;5;129;01mis\u001b[39;00m \u001b[38;5;129;01mnot\u001b[39;00m \u001b[38;5;28;01mNone\u001b[39;00m:\n\u001b[1;32m--> 972\u001b[0m         \u001b[38;5;28;01mreturn\u001b[39;00m \u001b[43mmethod\u001b[49m\u001b[43m(\u001b[49m\u001b[43minclude\u001b[49m\u001b[38;5;241;43m=\u001b[39;49m\u001b[43minclude\u001b[49m\u001b[43m,\u001b[49m\u001b[43m \u001b[49m\u001b[43mexclude\u001b[49m\u001b[38;5;241;43m=\u001b[39;49m\u001b[43mexclude\u001b[49m\u001b[43m)\u001b[49m\n\u001b[0;32m    973\u001b[0m     \u001b[38;5;28;01mreturn\u001b[39;00m \u001b[38;5;28;01mNone\u001b[39;00m\n\u001b[0;32m    974\u001b[0m \u001b[38;5;28;01melse\u001b[39;00m:\n",
      "File \u001b[1;32m~\\anaconda3\\lib\\site-packages\\graphviz\\jupyter_integration.py:98\u001b[0m, in \u001b[0;36mJupyterIntegration._repr_mimebundle_\u001b[1;34m(self, include, exclude, **_)\u001b[0m\n\u001b[0;32m     96\u001b[0m include \u001b[38;5;241m=\u001b[39m \u001b[38;5;28mset\u001b[39m(include) \u001b[38;5;28;01mif\u001b[39;00m include \u001b[38;5;129;01mis\u001b[39;00m \u001b[38;5;129;01mnot\u001b[39;00m \u001b[38;5;28;01mNone\u001b[39;00m \u001b[38;5;28;01melse\u001b[39;00m {\u001b[38;5;28mself\u001b[39m\u001b[38;5;241m.\u001b[39m_jupyter_mimetype}\n\u001b[0;32m     97\u001b[0m include \u001b[38;5;241m-\u001b[39m\u001b[38;5;241m=\u001b[39m \u001b[38;5;28mset\u001b[39m(exclude \u001b[38;5;129;01mor\u001b[39;00m [])\n\u001b[1;32m---> 98\u001b[0m \u001b[38;5;28;01mreturn\u001b[39;00m {mimetype: \u001b[38;5;28mgetattr\u001b[39m(\u001b[38;5;28mself\u001b[39m, method_name)()\n\u001b[0;32m     99\u001b[0m         \u001b[38;5;28;01mfor\u001b[39;00m mimetype, method_name \u001b[38;5;129;01min\u001b[39;00m MIME_TYPES\u001b[38;5;241m.\u001b[39mitems()\n\u001b[0;32m    100\u001b[0m         \u001b[38;5;28;01mif\u001b[39;00m mimetype \u001b[38;5;129;01min\u001b[39;00m include}\n",
      "File \u001b[1;32m~\\anaconda3\\lib\\site-packages\\graphviz\\jupyter_integration.py:98\u001b[0m, in \u001b[0;36m<dictcomp>\u001b[1;34m(.0)\u001b[0m\n\u001b[0;32m     96\u001b[0m include \u001b[38;5;241m=\u001b[39m \u001b[38;5;28mset\u001b[39m(include) \u001b[38;5;28;01mif\u001b[39;00m include \u001b[38;5;129;01mis\u001b[39;00m \u001b[38;5;129;01mnot\u001b[39;00m \u001b[38;5;28;01mNone\u001b[39;00m \u001b[38;5;28;01melse\u001b[39;00m {\u001b[38;5;28mself\u001b[39m\u001b[38;5;241m.\u001b[39m_jupyter_mimetype}\n\u001b[0;32m     97\u001b[0m include \u001b[38;5;241m-\u001b[39m\u001b[38;5;241m=\u001b[39m \u001b[38;5;28mset\u001b[39m(exclude \u001b[38;5;129;01mor\u001b[39;00m [])\n\u001b[1;32m---> 98\u001b[0m \u001b[38;5;28;01mreturn\u001b[39;00m {mimetype: \u001b[38;5;28;43mgetattr\u001b[39;49m\u001b[43m(\u001b[49m\u001b[38;5;28;43mself\u001b[39;49m\u001b[43m,\u001b[49m\u001b[43m \u001b[49m\u001b[43mmethod_name\u001b[49m\u001b[43m)\u001b[49m\u001b[43m(\u001b[49m\u001b[43m)\u001b[49m\n\u001b[0;32m     99\u001b[0m         \u001b[38;5;28;01mfor\u001b[39;00m mimetype, method_name \u001b[38;5;129;01min\u001b[39;00m MIME_TYPES\u001b[38;5;241m.\u001b[39mitems()\n\u001b[0;32m    100\u001b[0m         \u001b[38;5;28;01mif\u001b[39;00m mimetype \u001b[38;5;129;01min\u001b[39;00m include}\n",
      "File \u001b[1;32m~\\anaconda3\\lib\\site-packages\\graphviz\\jupyter_integration.py:112\u001b[0m, in \u001b[0;36mJupyterIntegration._repr_image_svg_xml\u001b[1;34m(self)\u001b[0m\n\u001b[0;32m    110\u001b[0m \u001b[38;5;28;01mdef\u001b[39;00m \u001b[38;5;21m_repr_image_svg_xml\u001b[39m(\u001b[38;5;28mself\u001b[39m) \u001b[38;5;241m-\u001b[39m\u001b[38;5;241m>\u001b[39m \u001b[38;5;28mstr\u001b[39m:\n\u001b[0;32m    111\u001b[0m     \u001b[38;5;124;03m\"\"\"Return the rendered graph as SVG string.\"\"\"\u001b[39;00m\n\u001b[1;32m--> 112\u001b[0m     \u001b[38;5;28;01mreturn\u001b[39;00m \u001b[38;5;28;43mself\u001b[39;49m\u001b[38;5;241;43m.\u001b[39;49m\u001b[43mpipe\u001b[49m\u001b[43m(\u001b[49m\u001b[38;5;28;43mformat\u001b[39;49m\u001b[38;5;241;43m=\u001b[39;49m\u001b[38;5;124;43m'\u001b[39;49m\u001b[38;5;124;43msvg\u001b[39;49m\u001b[38;5;124;43m'\u001b[39;49m\u001b[43m,\u001b[49m\u001b[43m \u001b[49m\u001b[43mencoding\u001b[49m\u001b[38;5;241;43m=\u001b[39;49m\u001b[43mSVG_ENCODING\u001b[49m\u001b[43m)\u001b[49m\n",
      "File \u001b[1;32m~\\anaconda3\\lib\\site-packages\\graphviz\\piping.py:104\u001b[0m, in \u001b[0;36mPipe.pipe\u001b[1;34m(self, format, renderer, formatter, neato_no_op, quiet, engine, encoding)\u001b[0m\n\u001b[0;32m     55\u001b[0m \u001b[38;5;28;01mdef\u001b[39;00m \u001b[38;5;21mpipe\u001b[39m(\u001b[38;5;28mself\u001b[39m,\n\u001b[0;32m     56\u001b[0m          \u001b[38;5;28mformat\u001b[39m: typing\u001b[38;5;241m.\u001b[39mOptional[\u001b[38;5;28mstr\u001b[39m] \u001b[38;5;241m=\u001b[39m \u001b[38;5;28;01mNone\u001b[39;00m,\n\u001b[0;32m     57\u001b[0m          renderer: typing\u001b[38;5;241m.\u001b[39mOptional[\u001b[38;5;28mstr\u001b[39m] \u001b[38;5;241m=\u001b[39m \u001b[38;5;28;01mNone\u001b[39;00m,\n\u001b[1;32m   (...)\u001b[0m\n\u001b[0;32m     61\u001b[0m          engine: typing\u001b[38;5;241m.\u001b[39mOptional[\u001b[38;5;28mstr\u001b[39m] \u001b[38;5;241m=\u001b[39m \u001b[38;5;28;01mNone\u001b[39;00m,\n\u001b[0;32m     62\u001b[0m          encoding: typing\u001b[38;5;241m.\u001b[39mOptional[\u001b[38;5;28mstr\u001b[39m] \u001b[38;5;241m=\u001b[39m \u001b[38;5;28;01mNone\u001b[39;00m) \u001b[38;5;241m-\u001b[39m\u001b[38;5;241m>\u001b[39m typing\u001b[38;5;241m.\u001b[39mUnion[\u001b[38;5;28mbytes\u001b[39m, \u001b[38;5;28mstr\u001b[39m]:\n\u001b[0;32m     63\u001b[0m     \u001b[38;5;124;03m\"\"\"Return the source piped through the Graphviz layout command.\u001b[39;00m\n\u001b[0;32m     64\u001b[0m \n\u001b[0;32m     65\u001b[0m \u001b[38;5;124;03m    Args:\u001b[39;00m\n\u001b[1;32m   (...)\u001b[0m\n\u001b[0;32m    102\u001b[0m \u001b[38;5;124;03m        '<?xml version='\u001b[39;00m\n\u001b[0;32m    103\u001b[0m \u001b[38;5;124;03m    \"\"\"\u001b[39;00m\n\u001b[1;32m--> 104\u001b[0m     \u001b[38;5;28;01mreturn\u001b[39;00m \u001b[38;5;28;43mself\u001b[39;49m\u001b[38;5;241;43m.\u001b[39;49m\u001b[43m_pipe_legacy\u001b[49m\u001b[43m(\u001b[49m\u001b[38;5;28;43mformat\u001b[39;49m\u001b[43m,\u001b[49m\n\u001b[0;32m    105\u001b[0m \u001b[43m                             \u001b[49m\u001b[43mrenderer\u001b[49m\u001b[38;5;241;43m=\u001b[39;49m\u001b[43mrenderer\u001b[49m\u001b[43m,\u001b[49m\n\u001b[0;32m    106\u001b[0m \u001b[43m                             \u001b[49m\u001b[43mformatter\u001b[49m\u001b[38;5;241;43m=\u001b[39;49m\u001b[43mformatter\u001b[49m\u001b[43m,\u001b[49m\n\u001b[0;32m    107\u001b[0m \u001b[43m                             \u001b[49m\u001b[43mneato_no_op\u001b[49m\u001b[38;5;241;43m=\u001b[39;49m\u001b[43mneato_no_op\u001b[49m\u001b[43m,\u001b[49m\n\u001b[0;32m    108\u001b[0m \u001b[43m                             \u001b[49m\u001b[43mquiet\u001b[49m\u001b[38;5;241;43m=\u001b[39;49m\u001b[43mquiet\u001b[49m\u001b[43m,\u001b[49m\n\u001b[0;32m    109\u001b[0m \u001b[43m                             \u001b[49m\u001b[43mengine\u001b[49m\u001b[38;5;241;43m=\u001b[39;49m\u001b[43mengine\u001b[49m\u001b[43m,\u001b[49m\n\u001b[0;32m    110\u001b[0m \u001b[43m                             \u001b[49m\u001b[43mencoding\u001b[49m\u001b[38;5;241;43m=\u001b[39;49m\u001b[43mencoding\u001b[49m\u001b[43m)\u001b[49m\n",
      "File \u001b[1;32m~\\anaconda3\\lib\\site-packages\\graphviz\\_tools.py:171\u001b[0m, in \u001b[0;36mdeprecate_positional_args.<locals>.decorator.<locals>.wrapper\u001b[1;34m(*args, **kwargs)\u001b[0m\n\u001b[0;32m    162\u001b[0m     wanted \u001b[38;5;241m=\u001b[39m \u001b[38;5;124m'\u001b[39m\u001b[38;5;124m, \u001b[39m\u001b[38;5;124m'\u001b[39m\u001b[38;5;241m.\u001b[39mjoin(\u001b[38;5;124mf\u001b[39m\u001b[38;5;124m'\u001b[39m\u001b[38;5;132;01m{\u001b[39;00mname\u001b[38;5;132;01m}\u001b[39;00m\u001b[38;5;124m=\u001b[39m\u001b[38;5;132;01m{\u001b[39;00mvalue\u001b[38;5;132;01m!r}\u001b[39;00m\u001b[38;5;124m'\u001b[39m\n\u001b[0;32m    163\u001b[0m                        \u001b[38;5;28;01mfor\u001b[39;00m name, value \u001b[38;5;129;01min\u001b[39;00m deprecated\u001b[38;5;241m.\u001b[39mitems())\n\u001b[0;32m    164\u001b[0m     warnings\u001b[38;5;241m.\u001b[39mwarn(\u001b[38;5;124mf\u001b[39m\u001b[38;5;124m'\u001b[39m\u001b[38;5;124mThe signature of \u001b[39m\u001b[38;5;132;01m{\u001b[39;00mfunc\u001b[38;5;241m.\u001b[39m\u001b[38;5;18m__name__\u001b[39m\u001b[38;5;132;01m}\u001b[39;00m\u001b[38;5;124m will be reduced\u001b[39m\u001b[38;5;124m'\u001b[39m\n\u001b[0;32m    165\u001b[0m                   \u001b[38;5;124mf\u001b[39m\u001b[38;5;124m'\u001b[39m\u001b[38;5;124m to \u001b[39m\u001b[38;5;132;01m{\u001b[39;00msupported_number\u001b[38;5;132;01m}\u001b[39;00m\u001b[38;5;124m positional args\u001b[39m\u001b[38;5;124m'\u001b[39m\n\u001b[0;32m    166\u001b[0m                   \u001b[38;5;124mf\u001b[39m\u001b[38;5;124m'\u001b[39m\u001b[38;5;124m \u001b[39m\u001b[38;5;132;01m{\u001b[39;00m\u001b[38;5;28mlist\u001b[39m(supported)\u001b[38;5;132;01m}\u001b[39;00m\u001b[38;5;124m: pass \u001b[39m\u001b[38;5;132;01m{\u001b[39;00mwanted\u001b[38;5;132;01m}\u001b[39;00m\u001b[38;5;124m'\u001b[39m\n\u001b[0;32m    167\u001b[0m                   \u001b[38;5;124m'\u001b[39m\u001b[38;5;124m as keyword arg(s)\u001b[39m\u001b[38;5;124m'\u001b[39m,\n\u001b[0;32m    168\u001b[0m                   stacklevel\u001b[38;5;241m=\u001b[39mstacklevel,\n\u001b[0;32m    169\u001b[0m                   category\u001b[38;5;241m=\u001b[39mcategory)\n\u001b[1;32m--> 171\u001b[0m \u001b[38;5;28;01mreturn\u001b[39;00m func(\u001b[38;5;241m*\u001b[39margs, \u001b[38;5;241m*\u001b[39m\u001b[38;5;241m*\u001b[39mkwargs)\n",
      "File \u001b[1;32m~\\anaconda3\\lib\\site-packages\\graphviz\\piping.py:121\u001b[0m, in \u001b[0;36mPipe._pipe_legacy\u001b[1;34m(self, format, renderer, formatter, neato_no_op, quiet, engine, encoding)\u001b[0m\n\u001b[0;32m    112\u001b[0m \u001b[38;5;129m@_tools\u001b[39m\u001b[38;5;241m.\u001b[39mdeprecate_positional_args(supported_number\u001b[38;5;241m=\u001b[39m\u001b[38;5;241m2\u001b[39m)\n\u001b[0;32m    113\u001b[0m \u001b[38;5;28;01mdef\u001b[39;00m \u001b[38;5;21m_pipe_legacy\u001b[39m(\u001b[38;5;28mself\u001b[39m,\n\u001b[0;32m    114\u001b[0m                  \u001b[38;5;28mformat\u001b[39m: typing\u001b[38;5;241m.\u001b[39mOptional[\u001b[38;5;28mstr\u001b[39m] \u001b[38;5;241m=\u001b[39m \u001b[38;5;28;01mNone\u001b[39;00m,\n\u001b[1;32m   (...)\u001b[0m\n\u001b[0;32m    119\u001b[0m                  engine: typing\u001b[38;5;241m.\u001b[39mOptional[\u001b[38;5;28mstr\u001b[39m] \u001b[38;5;241m=\u001b[39m \u001b[38;5;28;01mNone\u001b[39;00m,\n\u001b[0;32m    120\u001b[0m                  encoding: typing\u001b[38;5;241m.\u001b[39mOptional[\u001b[38;5;28mstr\u001b[39m] \u001b[38;5;241m=\u001b[39m \u001b[38;5;28;01mNone\u001b[39;00m) \u001b[38;5;241m-\u001b[39m\u001b[38;5;241m>\u001b[39m typing\u001b[38;5;241m.\u001b[39mUnion[\u001b[38;5;28mbytes\u001b[39m, \u001b[38;5;28mstr\u001b[39m]:\n\u001b[1;32m--> 121\u001b[0m     \u001b[38;5;28;01mreturn\u001b[39;00m \u001b[38;5;28;43mself\u001b[39;49m\u001b[38;5;241;43m.\u001b[39;49m\u001b[43m_pipe_future\u001b[49m\u001b[43m(\u001b[49m\u001b[38;5;28;43mformat\u001b[39;49m\u001b[43m,\u001b[49m\n\u001b[0;32m    122\u001b[0m \u001b[43m                             \u001b[49m\u001b[43mrenderer\u001b[49m\u001b[38;5;241;43m=\u001b[39;49m\u001b[43mrenderer\u001b[49m\u001b[43m,\u001b[49m\n\u001b[0;32m    123\u001b[0m \u001b[43m                             \u001b[49m\u001b[43mformatter\u001b[49m\u001b[38;5;241;43m=\u001b[39;49m\u001b[43mformatter\u001b[49m\u001b[43m,\u001b[49m\n\u001b[0;32m    124\u001b[0m \u001b[43m                             \u001b[49m\u001b[43mneato_no_op\u001b[49m\u001b[38;5;241;43m=\u001b[39;49m\u001b[43mneato_no_op\u001b[49m\u001b[43m,\u001b[49m\n\u001b[0;32m    125\u001b[0m \u001b[43m                             \u001b[49m\u001b[43mquiet\u001b[49m\u001b[38;5;241;43m=\u001b[39;49m\u001b[43mquiet\u001b[49m\u001b[43m,\u001b[49m\n\u001b[0;32m    126\u001b[0m \u001b[43m                             \u001b[49m\u001b[43mengine\u001b[49m\u001b[38;5;241;43m=\u001b[39;49m\u001b[43mengine\u001b[49m\u001b[43m,\u001b[49m\n\u001b[0;32m    127\u001b[0m \u001b[43m                             \u001b[49m\u001b[43mencoding\u001b[49m\u001b[38;5;241;43m=\u001b[39;49m\u001b[43mencoding\u001b[49m\u001b[43m)\u001b[49m\n",
      "File \u001b[1;32m~\\anaconda3\\lib\\site-packages\\graphviz\\piping.py:149\u001b[0m, in \u001b[0;36mPipe._pipe_future\u001b[1;34m(self, format, renderer, formatter, neato_no_op, quiet, engine, encoding)\u001b[0m\n\u001b[0;32m    146\u001b[0m \u001b[38;5;28;01mif\u001b[39;00m encoding \u001b[38;5;129;01mis\u001b[39;00m \u001b[38;5;129;01mnot\u001b[39;00m \u001b[38;5;28;01mNone\u001b[39;00m:\n\u001b[0;32m    147\u001b[0m     \u001b[38;5;28;01mif\u001b[39;00m codecs\u001b[38;5;241m.\u001b[39mlookup(encoding) \u001b[38;5;129;01mis\u001b[39;00m codecs\u001b[38;5;241m.\u001b[39mlookup(\u001b[38;5;28mself\u001b[39m\u001b[38;5;241m.\u001b[39mencoding):\n\u001b[0;32m    148\u001b[0m         \u001b[38;5;66;03m# common case: both stdin and stdout need the same encoding\u001b[39;00m\n\u001b[1;32m--> 149\u001b[0m         \u001b[38;5;28;01mreturn\u001b[39;00m \u001b[38;5;28mself\u001b[39m\u001b[38;5;241m.\u001b[39m_pipe_lines_string(\u001b[38;5;241m*\u001b[39margs, encoding\u001b[38;5;241m=\u001b[39mencoding, \u001b[38;5;241m*\u001b[39m\u001b[38;5;241m*\u001b[39mkwargs)\n\u001b[0;32m    150\u001b[0m     \u001b[38;5;28;01mtry\u001b[39;00m:\n\u001b[0;32m    151\u001b[0m         raw \u001b[38;5;241m=\u001b[39m \u001b[38;5;28mself\u001b[39m\u001b[38;5;241m.\u001b[39m_pipe_lines(\u001b[38;5;241m*\u001b[39margs, input_encoding\u001b[38;5;241m=\u001b[39m\u001b[38;5;28mself\u001b[39m\u001b[38;5;241m.\u001b[39mencoding, \u001b[38;5;241m*\u001b[39m\u001b[38;5;241m*\u001b[39mkwargs)\n",
      "File \u001b[1;32m~\\anaconda3\\lib\\site-packages\\graphviz\\backend\\piping.py:212\u001b[0m, in \u001b[0;36mpipe_lines_string\u001b[1;34m(engine, format, input_lines, encoding, renderer, formatter, neato_no_op, quiet)\u001b[0m\n\u001b[0;32m    206\u001b[0m cmd \u001b[38;5;241m=\u001b[39m dot_command\u001b[38;5;241m.\u001b[39mcommand(engine, \u001b[38;5;28mformat\u001b[39m,\n\u001b[0;32m    207\u001b[0m                           renderer\u001b[38;5;241m=\u001b[39mrenderer,\n\u001b[0;32m    208\u001b[0m                           formatter\u001b[38;5;241m=\u001b[39mformatter,\n\u001b[0;32m    209\u001b[0m                           neato_no_op\u001b[38;5;241m=\u001b[39mneato_no_op)\n\u001b[0;32m    210\u001b[0m kwargs \u001b[38;5;241m=\u001b[39m {\u001b[38;5;124m'\u001b[39m\u001b[38;5;124minput_lines\u001b[39m\u001b[38;5;124m'\u001b[39m: input_lines, \u001b[38;5;124m'\u001b[39m\u001b[38;5;124mencoding\u001b[39m\u001b[38;5;124m'\u001b[39m: encoding}\n\u001b[1;32m--> 212\u001b[0m proc \u001b[38;5;241m=\u001b[39m execute\u001b[38;5;241m.\u001b[39mrun_check(cmd, capture_output\u001b[38;5;241m=\u001b[39m\u001b[38;5;28;01mTrue\u001b[39;00m, quiet\u001b[38;5;241m=\u001b[39mquiet, \u001b[38;5;241m*\u001b[39m\u001b[38;5;241m*\u001b[39mkwargs)\n\u001b[0;32m    213\u001b[0m \u001b[38;5;28;01mreturn\u001b[39;00m proc\u001b[38;5;241m.\u001b[39mstdout\n",
      "File \u001b[1;32m~\\anaconda3\\lib\\site-packages\\graphviz\\backend\\execute.py:84\u001b[0m, in \u001b[0;36mrun_check\u001b[1;34m(cmd, input_lines, encoding, quiet, **kwargs)\u001b[0m\n\u001b[0;32m     82\u001b[0m \u001b[38;5;28;01mexcept\u001b[39;00m \u001b[38;5;167;01mOSError\u001b[39;00m \u001b[38;5;28;01mas\u001b[39;00m e:\n\u001b[0;32m     83\u001b[0m     \u001b[38;5;28;01mif\u001b[39;00m e\u001b[38;5;241m.\u001b[39merrno \u001b[38;5;241m==\u001b[39m errno\u001b[38;5;241m.\u001b[39mENOENT:\n\u001b[1;32m---> 84\u001b[0m         \u001b[38;5;28;01mraise\u001b[39;00m ExecutableNotFound(cmd) \u001b[38;5;28;01mfrom\u001b[39;00m \u001b[38;5;21;01me\u001b[39;00m\n\u001b[0;32m     85\u001b[0m     \u001b[38;5;28;01mraise\u001b[39;00m\n\u001b[0;32m     87\u001b[0m \u001b[38;5;28;01mif\u001b[39;00m \u001b[38;5;129;01mnot\u001b[39;00m quiet \u001b[38;5;129;01mand\u001b[39;00m proc\u001b[38;5;241m.\u001b[39mstderr:\n",
      "\u001b[1;31mExecutableNotFound\u001b[0m: failed to execute WindowsPath('dot'), make sure the Graphviz executables are on your systems' PATH"
     ]
    },
    {
     "data": {
      "text/plain": [
       "<graphviz.graphs.Digraph at 0x1bc979ba020>"
      ]
     },
     "execution_count": 11,
     "metadata": {},
     "output_type": "execute_result"
    }
   ],
   "source": [
    "from automata.fa.dfa import DFA\n",
    "from visual_automata.fa.dfa import VisualDFA\n",
    "\n",
    "dfa = VisualDFA(\n",
    "    states={\"q0\", \"q1\", \"q2\", \"q3\", \"q4\"},\n",
    "    input_symbols={\"0\", \"1\"},\n",
    "    transitions={\n",
    "        \"q0\": {\"0\": \"q3\", \"1\": \"q1\"},\n",
    "        \"q1\": {\"0\": \"q3\", \"1\": \"q2\"},\n",
    "        \"q2\": {\"0\": \"q3\", \"1\": \"q2\"},\n",
    "        \"q3\": {\"0\": \"q4\", \"1\": \"q1\"},\n",
    "        \"q4\": {\"0\": \"q4\", \"1\": \"q1\"},\n",
    "    },\n",
    "    initial_state=\"q0\",\n",
    "    final_states={\"q2\", \"q4\"},\n",
    ")\n",
    "\n",
    "#dfa.table()\n",
    "dfa.show_diagram()"
   ]
  }
 ],
 "metadata": {
  "kernelspec": {
   "display_name": "Python 3 (ipykernel)",
   "language": "python",
   "name": "python3"
  },
  "language_info": {
   "codemirror_mode": {
    "name": "ipython",
    "version": 3
   },
   "file_extension": ".py",
   "mimetype": "text/x-python",
   "name": "python",
   "nbconvert_exporter": "python",
   "pygments_lexer": "ipython3",
   "version": "3.10.9"
  }
 },
 "nbformat": 4,
 "nbformat_minor": 5
}
